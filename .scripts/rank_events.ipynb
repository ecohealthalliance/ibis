{
 "cells": [
  {
   "cell_type": "code",
   "execution_count": 1,
   "metadata": {},
   "outputs": [
    {
     "data": {
      "text/plain": [
       "'Notebook evaluated on: 2018-01-24 19:15:23.469783'"
      ]
     },
     "execution_count": 1,
     "metadata": {},
     "output_type": "execute_result"
    }
   ],
   "source": [
    "import requests\n",
    "import pymongo\n",
    "import pandas as pd\n",
    "import numpy\n",
    "import datetime\n",
    "import os\n",
    "import json\n",
    "\n",
    "def batched(iterable, batch_size=10):\n",
    "    \"\"\"\n",
    "    Sequentially yield segments of the iterable in lists of the given size.\n",
    "    \"\"\"\n",
    "    batch = []\n",
    "    for idx, item in enumerate(iterable):\n",
    "        batch.append(item)\n",
    "        batch_idx = idx % batch_size\n",
    "        if batch_idx == batch_size - 1:\n",
    "            yield batch\n",
    "            batch = []\n",
    "    yield batch\n",
    "\n",
    "db = pymongo.MongoClient(os.environ['MONGO_HOST'])['flirt']\n",
    "\n",
    "\"Notebook evaluated on: \" + str(datetime.datetime.now())"
   ]
  },
  {
   "cell_type": "code",
   "execution_count": 2,
   "metadata": {},
   "outputs": [
    {
     "data": {
      "text/plain": [
       "222"
      ]
     },
     "execution_count": 2,
     "metadata": {},
     "output_type": "execute_result"
    }
   ],
   "source": [
    "events = requests.get('https://eidr-connect.eha.io/api/auto-events', params={\n",
    "    'limit': 20000\n",
    "}).json()\n",
    "len(events)"
   ]
  },
  {
   "cell_type": "code",
   "execution_count": 3,
   "metadata": {},
   "outputs": [
    {
     "data": {
      "text/plain": [
       "3623"
      ]
     },
     "execution_count": 3,
     "metadata": {},
     "output_type": "execute_result"
    }
   ],
   "source": [
    "passenger_flows = list(db.passengerFlows.find({\n",
    "    'simGroup': 'ibis14day'\n",
    "}))\n",
    "airport_set = set()\n",
    "for flow in passenger_flows:\n",
    "    airport_set.add(flow['arrivalAirport'])\n",
    "    airport_set.add(flow['departureAirport'])\n",
    "airport_to_idx = {}\n",
    "airports = []\n",
    "for idx, airport in enumerate(airport_set):\n",
    "    airport_to_idx[airport] = idx\n",
    "    airports.append(airport)\n",
    "len(airports)"
   ]
  },
  {
   "cell_type": "code",
   "execution_count": 4,
   "metadata": {},
   "outputs": [
    {
     "data": {
      "text/plain": [
       "array([[ 0.,  0.,  0., ...,  0.,  0.,  0.],\n",
       "       [ 0.,  0.,  0., ...,  0.,  0.,  0.],\n",
       "       [ 0.,  0.,  0., ...,  0.,  0.,  0.],\n",
       "       ..., \n",
       "       [ 0.,  0.,  0., ...,  0.,  0.,  0.],\n",
       "       [ 0.,  0.,  0., ...,  0.,  0.,  0.],\n",
       "       [ 0.,  0.,  0., ...,  0.,  0.,  0.]])"
      ]
     },
     "execution_count": 4,
     "metadata": {},
     "output_type": "execute_result"
    }
   ],
   "source": [
    "flow_matrix = numpy.zeros(shape=(len(airport_set), len(airport_set)))\n",
    "for flow in passenger_flows:\n",
    "    # Remove US airports from departures?\n",
    "    flow_matrix[\n",
    "        airport_to_idx[flow['departureAirport']],\n",
    "        airport_to_idx[flow['arrivalAirport']]] = flow['estimatedPassengers']\n",
    "flow_matrix"
   ]
  },
  {
   "cell_type": "code",
   "execution_count": 5,
   "metadata": {},
   "outputs": [],
   "source": [
    "resolved_events = []\n",
    "end_date = datetime.datetime.now()\n",
    "start_date = end_date - datetime.timedelta(days=14)\n",
    "\n",
    "def resolved_event_iter(events):\n",
    "    for event_batch in batched(events, 5):\n",
    "        results = requests.get('https://eidr-connect.eha.io/api/events-with-resolved-data', params={\n",
    "            'ids': [event['_id'] for event in event_batch],\n",
    "            'startDate': start_date.isoformat(),\n",
    "            'endDate': end_date.isoformat(),\n",
    "            'eventType': 'auto'\n",
    "        }).json()['events']\n",
    "        for result in results:\n",
    "            yield result\n",
    "\n",
    "events_with_resolved_data = list(zip(events, resolved_event_iter(events)))\n"
   ]
  },
  {
   "cell_type": "code",
   "execution_count": 6,
   "metadata": {},
   "outputs": [],
   "source": [
    "# Initialize with names used by airport data set that are not present in the\n",
    "# world geojson file.\n",
    "nameToISOs = {\n",
    "  'North Korea': 'KP',\n",
    "  'South Korea': 'KR',\n",
    "  'United States Minor Outlying Islands': 'US',\n",
    "  'Macau': 'MO',\n",
    "  'Reunion': 'RE',\n",
    "  'Christmas Island': 'CX',\n",
    "  'Guadeloupe': 'GP',\n",
    "  'Ivory Coast (Cote d\\'Ivoire)': 'CI',\n",
    "  'French Guiana': 'GF',\n",
    "  'Western Samoa': 'WS',\n",
    "  'Saint Vincent and Grenadines': 'VC',\n",
    "  'Guinea Bissau': 'GW',\n",
    "  'Cocos (Keeling) Islands': 'CC',\n",
    "  'Grenada and South Grenadines': 'GD',\n",
    "  'Mayotte': 'YT',\n",
    "  'Martinique': 'MQ',\n",
    "  'Tuvalu': 'TV',\n",
    "  'Gibraltar': 'GI',\n",
    "  'Bonaire, Saint Eustatius & Saba': None,\n",
    "  'Palestinian Territory': None,\n",
    "  'Curacao': None,\n",
    "  'Unknown Country': None\n",
    "}\n",
    "name_props = [\n",
    "  'name',\n",
    "  'name_long',\n",
    "  'formal_en',\n",
    "  'name_alt',\n",
    "  'name_sort',\n",
    "  'formal_en',\n",
    "  'brk_name'\n",
    "];\n",
    "\n",
    "\n",
    "with open(\"../imports/geoJSON/world.geo.json\") as f:\n",
    "    world_geo_json = json.load(f)\n",
    "    for feature in world_geo_json['features']:\n",
    "        properties = feature['properties']\n",
    "        for prop in name_props:\n",
    "            value = properties.get(prop)\n",
    "            if value:\n",
    "                nameToISOs[value] = properties['iso_a2']\n",
    "\n",
    "    airport_to_country_code = {\n",
    "        airport['_id']: nameToISOs[airport['countryName']]\n",
    "        for airport in db.airports.find({})\n",
    "    }\n",
    "\n",
    "    countries_by_code = {\n",
    "        feature['properties']['iso_a2']: feature['properties']\n",
    "        for feature in world_geo_json['features']\n",
    "        if feature['properties']['iso_a2']\n",
    "    }\n"
   ]
  },
  {
   "cell_type": "code",
   "execution_count": 7,
   "metadata": {},
   "outputs": [
    {
     "data": {
      "text/plain": [
       "array([[ 0.,  0.,  0., ...,  0.,  0.,  0.],\n",
       "       [ 0.,  0.,  0., ...,  0.,  0.,  0.],\n",
       "       [ 0.,  0.,  0., ...,  0.,  0.,  0.],\n",
       "       ..., \n",
       "       [ 0.,  0.,  0., ...,  0.,  0.,  0.],\n",
       "       [ 0.,  0.,  0., ...,  0.,  0.,  0.],\n",
       "       [ 0.,  0.,  0., ...,  0.,  0.,  0.]])"
      ]
     },
     "execution_count": 7,
     "metadata": {},
     "output_type": "execute_result"
    }
   ],
   "source": [
    "probabilty_passenger_infected_matrix = numpy.zeros(shape=(len(events), len(airport_set)))       \n",
    "for idx, (event, resolved_event) in enumerate(events_with_resolved_data):\n",
    "    for airport in airports:\n",
    "        cc = airport_to_country_code.get(airport)\n",
    "        country_data = countries_by_code.get(cc)\n",
    "        if country_data:\n",
    "            prob = float(resolved_event['locations'].get(cc, 0)) / country_data['pop_est']\n",
    "        else:\n",
    "            prob = 0\n",
    "        probabilty_passenger_infected_matrix[idx, airport_to_idx[airport]] = prob\n",
    "probabilty_passenger_infected_matrix"
   ]
  },
  {
   "cell_type": "code",
   "execution_count": 12,
   "metadata": {},
   "outputs": [],
   "source": [
    "db.resolvedEvents.delete_many({})\n",
    "for idx, (event, resolved_event) in enumerate(events_with_resolved_data):\n",
    "    db.resolvedEvents.insert_one(dict(resolved_event, _id=event['_id'], name=event['eventName']))"
   ]
  },
  {
   "cell_type": "code",
   "execution_count": 9,
   "metadata": {},
   "outputs": [
    {
     "name": "stdout",
     "output_type": "stream",
     "text": [
      "(50000, '/', 50000)\n",
      "(50000, '/', 50000)\n",
      "(50000, '/', 50000)\n",
      "(50000, '/', 50000)\n",
      "(50000, '/', 50000)\n",
      "(50000, '/', 50000)\n",
      "(50000, '/', 50000)\n",
      "(50000, '/', 50000)\n",
      "(50000, '/', 50000)\n",
      "(50000, '/', 50000)\n",
      "(50000, '/', 50000)\n",
      "(50000, '/', 50000)\n",
      "(14264, '/', 14264)\n"
     ]
    }
   ],
   "source": [
    "def gen_ranks():\n",
    "    for idx, (event, resolved_event) in enumerate(events_with_resolved_data):\n",
    "        event_id = event['_id']\n",
    "        for arrival_airport, country_code in airport_to_country_code.items():\n",
    "            if country_code != \"US\" or arrival_airport not in airport_to_idx:\n",
    "                continue\n",
    "            arrival_airport_idx = airport_to_idx[arrival_airport]\n",
    "            for departure_airport, departure_country_code in airport_to_country_code.items():\n",
    "                if departure_country_code not in resolved_event['locations'] or departure_airport not in airport_to_idx:\n",
    "                    continue\n",
    "                rank_score = probabilty_passenger_infected_matrix[idx, airport_to_idx[departure_airport]] * flow_matrix[\n",
    "                        airport_to_idx[departure_airport], arrival_airport_idx]\n",
    "                if rank_score == 0:\n",
    "                    continue\n",
    "                yield {\n",
    "                    'eventId': event_id,\n",
    "                    'departureAirportId': departure_airport,\n",
    "                    'arrivalAirportId': arrival_airport,\n",
    "                    'rank': rank_score\n",
    "                }\n",
    "\n",
    "db.eventAirportRanks.delete_many({})\n",
    "for ranks in batched(gen_ranks(), 50000):\n",
    "    result = db.eventAirportRanks.insert_many(ranks)\n",
    "    print(len(result.inserted_ids), '/', len(ranks), 'records inserted')\n"
   ]
  },
  {
   "cell_type": "code",
   "execution_count": 14,
   "metadata": {},
   "outputs": [
    {
     "data": {
      "text/plain": [
       "{u'_id': ObjectId('5a68dc0833919a0507096b76'),\n",
       " u'arrivalAirportId': u'SPN',\n",
       " u'departureAirportId': u'DEL',\n",
       " u'eventId': u'RT2Q59owF2Hawxc4A',\n",
       " u'rank': 4.160208814972279e-06}"
      ]
     },
     "execution_count": 14,
     "metadata": {},
     "output_type": "execute_result"
    }
   ],
   "source": [
    "db.eventAirportRanks.find_one({\n",
    "    'rank': {'$gt': 0}\n",
    "})"
   ]
  }
 ],
 "metadata": {
  "kernelspec": {
   "display_name": "Python 2",
   "language": "python",
   "name": "python2"
  },
  "language_info": {
   "codemirror_mode": {
    "name": "ipython",
    "version": 2
   },
   "file_extension": ".py",
   "mimetype": "text/x-python",
   "name": "python",
   "nbconvert_exporter": "python",
   "pygments_lexer": "ipython2",
   "version": "2.7.12"
  }
 },
 "nbformat": 4,
 "nbformat_minor": 2
}
